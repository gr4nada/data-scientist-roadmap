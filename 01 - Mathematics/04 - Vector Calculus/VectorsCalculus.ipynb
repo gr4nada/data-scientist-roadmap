{
 "cells": [
  {
   "cell_type": "markdown",
   "metadata": {},
   "source": [
    "## Vectors in N Dimensions\n",
    "\n",
    "A vector is an object that has both magnitude and direction."
   ]
  },
  {
   "cell_type": "code",
   "execution_count": 10,
   "metadata": {},
   "outputs": [
    {
     "data": {
      "image/png": "[encoded data removed]",
      "text/plain": [
       "<Figure size 432x288 with 1 Axes>"
      ]
     },
     "metadata": {
      "needs_background": "light"
     },
     "output_type": "display_data"
    }
   ],
   "source": [
    "# Import libraries\n",
    "import numpy as np\n",
    "import matplotlib.pyplot as plt\n",
    "  \n",
    "# Vector origin location\n",
    "X = [0]\n",
    "Y = [0]\n",
    "  \n",
    "# Directional vectors\n",
    "U1 = [1]  \n",
    "V1 = [5]  \n",
    "\n",
    "U2 = [4]  \n",
    "V2 = [2]  \n",
    "  \n",
    "# Creating plot\n",
    "plt.quiver(X, Y, U1, V1, color='b', units='xy', scale=1)\n",
    "plt.quiver(X, Y, U2, V2, color='r', units='xy', scale=1)\n",
    "plt.title('Vectors')\n",
    "  \n",
    "# x-lim and y-lim\n",
    "plt.xlim(-2, 8)\n",
    "plt.ylim(-2, 8)\n",
    "  \n",
    "# Show plot with grid\n",
    "plt.grid()\n",
    "plt.show()"
   ]
  },
  {
   "cell_type": "markdown",
   "metadata": {},
   "source": [
    "A vector can be represented by an ordered list of numbers.\n",
    "\n",
    "A scalar is simply a number, which may be positive, negative or zero.\n",
    "\n",
    "Vectors can be combined using linear combinations.\n",
    "\n",
    "The study of these linear combinations leads to linear systems."
   ]
  }
 ],
 "metadata": {
  "kernelspec": {
   "display_name": "Python 3.8.8 ('base')",
   "language": "python",
   "name": "python3"
  },
  "language_info": {
   "codemirror_mode": {
    "name": "ipython",
    "version": 3
   },
   "file_extension": ".py",
   "mimetype": "text/x-python",
   "name": "python",
   "nbconvert_exporter": "python",
   "pygments_lexer": "ipython3",
   "version": "3.8.8"
  },
  "orig_nbformat": 4,
  "vscode": {
   "interpreter": {
    "hash": "8a76ab7672d3849020eb682a52b788883fb11e29892d4e03e708c369affd26d0"
   }
  }
 },
 "nbformat": 4,
 "nbformat_minor": 2
}
