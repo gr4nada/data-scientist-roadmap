{
 "cells": [
  {
   "cell_type": "code",
   "execution_count": 20,
   "metadata": {},
   "outputs": [],
   "source": [
    "import numpy as np\n",
    "import matplotlib.pyplot as plt\n",
    "# rref()\n",
    "from sympy import *"
   ]
  },
  {
   "cell_type": "markdown",
   "metadata": {},
   "source": [
    "## Linear Equations\n",
    "A linear equation in the variables $ x_{0},...,x_{n} $ is an equation that can be written in the form $ a_{1}x_{0}+a_{2}x_{1}+...+a_{n}x_{n}=b $.\n",
    "\n",
    "b and the coefficients $ a_{1},...,a_{n}$ can be real or complex numbers.\n",
    "\n",
    "The following is an example of a linear equation:\n",
    "$$ x_{0}+2x_{1}=1 $$\n",
    "\n",
    "## Linear Systems\n",
    "\n",
    "A system of linear equations (linear system) is a collection of linear equations involving $ x_{0},...,x_{n} $ , such as the following:\n",
    "$$ x_{0}+2x_{1}=1 $$\n",
    "$$ 3x_{0}+5x_{1}=2 $$\n",
    "\n",
    "A solution of the system is a list $(s_{1},s_{2},...,s_{n})$ of numbers with the following property:\n",
    "\n",
    "Each equation becomes a true statement when the values $s_{1},...,s_{n}$ are substituted for $x_{0},...,x_{n} $ respectively.\n",
    "\n",
    "For example, consider the preceding system:"
   ]
  },
  {
   "cell_type": "code",
   "execution_count": 8,
   "metadata": {},
   "outputs": [],
   "source": [
    "a = np.array([[1, 2], [3, 5]])\n",
    "b = np.array([1, 2])"
   ]
  },
  {
   "cell_type": "markdown",
   "metadata": {},
   "source": [
    "Then ${x_{0}=-1, x_{1}=1}$ is a solution of the system:"
   ]
  },
  {
   "cell_type": "code",
   "execution_count": 15,
   "metadata": {},
   "outputs": [
    {
     "data": {
      "text/plain": [
       "array([-1.,  1.])"
      ]
     },
     "execution_count": 15,
     "metadata": {},
     "output_type": "execute_result"
    }
   ],
   "source": [
    "x = np.linalg.solve(a, b)\n",
    "x\n"
   ]
  },
  {
   "cell_type": "markdown",
   "metadata": {},
   "source": [
    "Check that the solution is correct:"
   ]
  },
  {
   "cell_type": "code",
   "execution_count": 11,
   "metadata": {},
   "outputs": [
    {
     "data": {
      "text/plain": [
       "True"
      ]
     },
     "execution_count": 11,
     "metadata": {},
     "output_type": "execute_result"
    }
   ],
   "source": [
    "np.allclose(np.dot(a, x), b)"
   ]
  },
  {
   "cell_type": "markdown",
   "metadata": {},
   "source": [
    "The set of all possible solutions is called the solution set of the linear system.\n",
    "\n",
    "## Matrix Notation\n",
    "\n",
    "A matrix can be represented by utilizing a nested list.\n",
    "\n",
    "Each list in the nested list corresponds to a row of the matrix.\n",
    "\n",
    "For example, the matrix\n",
    "$$A = \\begin{bmatrix}3 & 2 & 1\\\\\n",
    "4 & 2 & 3\\\\\n",
    "1 & 4 & 1\\end{bmatrix}$$ \n",
    "\n",
    "May be represented as follows:"
   ]
  },
  {
   "cell_type": "code",
   "execution_count": 21,
   "metadata": {},
   "outputs": [
    {
     "data": {
      "text/plain": [
       "array([[3, 2, 1],\n",
       "       [4, 2, 3],\n",
       "       [1, 4, 1]])"
      ]
     },
     "execution_count": 21,
     "metadata": {},
     "output_type": "execute_result"
    }
   ],
   "source": [
    "A = np.array([[3, 2 , 1], [4, 2, 3], [1, 4, 1]])\n",
    "A"
   ]
  },
  {
   "cell_type": "markdown",
   "metadata": {},
   "source": [
    "## Matrix Terminology\n",
    "An $m * n$ matrix is a rectangular array of numbers with $m$ rows and $n$ columns.\n",
    "\n",
    "You can use Dimensions to find the number of rows and columns in this matrix:"
   ]
  },
  {
   "cell_type": "code",
   "execution_count": 22,
   "metadata": {},
   "outputs": [
    {
     "data": {
      "text/plain": [
       "(3, 3)"
      ]
     },
     "execution_count": 22,
     "metadata": {},
     "output_type": "execute_result"
    }
   ],
   "source": [
    "np.shape(A)"
   ]
  },
  {
   "cell_type": "markdown",
   "metadata": {},
   "source": [
    "## Row Reduction And Echelon Forms\n",
    "\n",
    "Consider the following matrix:\n",
    "$$A = \\begin{bmatrix}3 & 2 & 1\\\\\n",
    "4 & 2 & 3\\\\\n",
    "1 & 4 & 1\\end{bmatrix}$$ \n",
    "\n",
    "The goal is to transform such a matrix to a simpler echelon form:\n",
    "\n",
    "Consider the following matrix:\n",
    "$$A = \\begin{bmatrix}1 & 0 & 0\\\\\n",
    "0 & 1 & 0\\\\\n",
    "0 & 0 & 1\\end{bmatrix} = \\left\\lbrack \\begin{array}{ccc}\n",
    "0 \\\\\n",
    "1 \\\\\n",
    "2\\end{array} \\right\\rbrack $$\n",
    "\n",
    "An echelon form for a matrix can be obtained by using the process of row reduction.\n",
    "\n",
    "The RowReduce function gives the reduced echelon form of a matrix.\n",
    "\n",
    "The reduced echelon form can be used to solve linear systems. Use sympy and rref() to find the reduced echelon form:"
   ]
  },
  {
   "cell_type": "code",
   "execution_count": 27,
   "metadata": {},
   "outputs": [
    {
     "data": {
      "text/plain": [
       "(Matrix([\n",
       " [1, 0, 0],\n",
       " [0, 1, 0],\n",
       " [0, 0, 1]]),\n",
       " (0, 1, 2))"
      ]
     },
     "execution_count": 27,
     "metadata": {},
     "output_type": "execute_result"
    }
   ],
   "source": [
    "# Python sympy | Matrix.rref() method\n",
    "A_rref = Matrix(A).rref()\n",
    "A_rref"
   ]
  },
  {
   "cell_type": "markdown",
   "metadata": {},
   "source": [
    "------------\n",
    "###### Data-Scientist-Roadmap - References:. [WOLFRAM INTRODUTION TO LINEAR ALGEBRA](https://www.wolfram.com/wolfram-u/courses/mathematics/introduction-to-linear-algebra/)"
   ]
  }
 ],
 "metadata": {
  "kernelspec": {
   "display_name": "Python 3.8.8 ('base')",
   "language": "python",
   "name": "python3"
  },
  "language_info": {
   "codemirror_mode": {
    "name": "ipython",
    "version": 3
   },
   "file_extension": ".py",
   "mimetype": "text/x-python",
   "name": "python",
   "nbconvert_exporter": "python",
   "pygments_lexer": "ipython3",
   "version": "3.8.8"
  },
  "orig_nbformat": 4,
  "vscode": {
   "interpreter": {
    "hash": "8a76ab7672d3849020eb682a52b788883fb11e29892d4e03e708c369affd26d0"
   }
  }
 },
 "nbformat": 4,
 "nbformat_minor": 2
}
