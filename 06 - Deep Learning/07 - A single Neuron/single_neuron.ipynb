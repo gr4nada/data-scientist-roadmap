{
 "cells": [
  {
   "cell_type": "code",
   "execution_count": null,
   "metadata": {},
   "outputs": [],
   "source": [
    "import tensorflow as tf"
   ]
  },
  {
   "cell_type": "code",
   "execution_count": 2,
   "metadata": {},
   "outputs": [
    {
     "name": "stderr",
     "output_type": "stream",
     "text": [
      "f:\\ProgramData\\Anaconda3\\lib\\site-packages\\scipy\\__init__.py:138: UserWarning: A NumPy version >=1.16.5 and <1.23.0 is required for this version of SciPy (detected version 1.23.3)\n",
      "  warnings.warn(f\"A NumPy version >={np_minversion} and <{np_maxversion} is required for this version of \"\n"
     ]
    },
    {
     "name": "stdout",
     "output_type": "stream",
     "text": [
      "tf.Tensor(\n",
      "[[-1.3077018  -1.3077018  -1.3077018  -1.3077018  -1.3077018  -1.3077018 ]\n",
      " [-1.11112    -1.11112    -1.11112    -1.11112    -1.11112    -1.11112   ]\n",
      " [ 0.630515    0.630515    0.630515    0.630515    0.630515    0.630515  ]\n",
      " [-0.9860659  -0.9860659  -0.9860659  -0.9860659  -0.9860659  -0.9860659 ]\n",
      " [-0.37826955 -0.37826955 -0.37826955 -0.37826955 -0.37826955 -0.37826955]], shape=(5, 6), dtype=float32)\n",
      "[<tf.Variable 'layer/kernel_0:0' shape=(1, 10) dtype=float32, numpy=\n",
      "array([[-0.5181979 , -0.63445526,  0.71040076, -0.3345592 , -0.20917523,\n",
      "         0.06701553, -0.55154145, -0.24975619, -0.47119582,  0.09324765]],\n",
      "      dtype=float32)>, <tf.Variable 'layer/bias_0:0' shape=(1, 1) dtype=float32, numpy=array([[-1.3077018]], dtype=float32)>, <tf.Variable 'layer/kernel_1:0' shape=(1, 10) dtype=float32, numpy=\n",
      "array([[-0.40697047, -0.35724512, -0.45898494,  0.39768225,  0.36645836,\n",
      "        -0.17587161, -0.11867851,  0.05743659, -0.19261754,  0.5392751 ]],\n",
      "      dtype=float32)>, <tf.Variable 'layer/bias_1:0' shape=(1, 1) dtype=float32, numpy=array([[-1.11112]], dtype=float32)>, <tf.Variable 'layer/kernel_2:0' shape=(1, 10) dtype=float32, numpy=\n",
      "array([[-0.27119774,  0.5792281 , -0.47624677, -0.72344166, -0.0964992 ,\n",
      "         0.5870901 , -0.20493388,  0.56445223, -0.49745464, -0.25851372]],\n",
      "      dtype=float32)>, <tf.Variable 'layer/bias_2:0' shape=(1, 1) dtype=float32, numpy=array([[0.630515]], dtype=float32)>, <tf.Variable 'layer/kernel_3:0' shape=(1, 10) dtype=float32, numpy=\n",
      "array([[-0.5361036 , -0.03433442,  0.44067544,  0.6669927 ,  0.36356527,\n",
      "        -0.4247817 ,  0.43444163, -0.5693129 , -0.42061803,  0.2390154 ]],\n",
      "      dtype=float32)>, <tf.Variable 'layer/bias_3:0' shape=(1, 1) dtype=float32, numpy=array([[-0.9860659]], dtype=float32)>, <tf.Variable 'layer/kernel_4:0' shape=(1, 10) dtype=float32, numpy=\n",
      "array([[-0.10277623,  0.37963277, -0.31214195, -0.07712418, -0.64318705,\n",
      "        -0.36537528,  0.2319904 , -0.69514394, -0.14228135, -0.3534315 ]],\n",
      "      dtype=float32)>, <tf.Variable 'layer/bias_4:0' shape=(1, 1) dtype=float32, numpy=array([[-0.37826955]], dtype=float32)>]\n",
      "Parameter: <tf.Variable 'layer_1/kernel_1:0' shape=(1, 10) dtype=float32, numpy=\n",
      "array([[ 0.65434414, -0.30236244, -0.05324334, -0.19883436,  0.4428689 ,\n",
      "         0.1622755 , -0.01165497, -0.6978426 , -0.37613997, -0.19630402]],\n",
      "      dtype=float32)>\n",
      "Gradient:  [[6. 6. 6. 6. 6. 6. 6. 6. 6. 6.]]\n"
     ]
    }
   ],
   "source": [
    "def neuron(x, W, b):\n",
    "    return tf.add(tf.matmul(W, x), b)\n",
    "\n",
    "\n",
    "class Layer(tf.keras.layers.Layer):\n",
    "    def __init__(self, n_units=5):\n",
    "        super(Layer, self).__init__()\n",
    "\n",
    "        self.n_units = n_units\n",
    "\n",
    "    def build(self, input_shape):\n",
    "        for i in range(self.n_units):\n",
    "            exec(f'self.kernel_{i} = self.add_weight(\"kernel_{i}\", shape=[1, int(input_shape[0])])')\n",
    "            exec(f'self.bias_{i} = self.add_weight(\"bias_{i}\", shape=[1, 1])')\n",
    "\n",
    "    def call(self, inputs):\n",
    "        for i in range(self.n_units):\n",
    "            exec(f'out_{i} = neuron(inputs, self.kernel_{i}, self.bias_{i})')\n",
    "        return eval(f'tf.concat([{\", \".join([ f\"out_{i}\" for i in range(self.n_units) ])}], axis=0)')\n",
    "\n",
    "\n",
    "# Check to see if it outputs the correct thing\n",
    "layer = Layer(5) # With 5 neurons, it should return a (5, 6)\n",
    "print(layer(tf.zeros([10, 6])))\n",
    "\n",
    "# Check to see if it has the right trainable parameters\n",
    "print(layer.trainable_variables)\n",
    "\n",
    "# Check to see if TensorFlow can find the gradients\n",
    "layer = Layer(5)\n",
    "x = tf.ones([10, 6])\n",
    "with tf.GradientTape() as tape:\n",
    "    z = layer(x)\n",
    "print(f\"Parameter: {layer.trainable_variables[2]}\")\n",
    "print(f\"Gradient:  {tape.gradient(z, layer.trainable_variables[2])}\")\n",
    "\n",
    "\n"
   ]
  }
 ],
 "metadata": {
  "kernelspec": {
   "display_name": "Python 3.8.8 ('base')",
   "language": "python",
   "name": "python3"
  },
  "language_info": {
   "codemirror_mode": {
    "name": "ipython",
    "version": 3
   },
   "file_extension": ".py",
   "mimetype": "text/x-python",
   "name": "python",
   "nbconvert_exporter": "python",
   "pygments_lexer": "ipython3",
   "version": "3.8.8"
  },
  "orig_nbformat": 4,
  "vscode": {
   "interpreter": {
    "hash": "8a76ab7672d3849020eb682a52b788883fb11e29892d4e03e708c369affd26d0"
   }
  }
 },
 "nbformat": 4,
 "nbformat_minor": 2
}
