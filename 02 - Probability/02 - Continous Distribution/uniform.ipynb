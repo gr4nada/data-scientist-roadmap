{
 "cells": [
  {
   "cell_type": "code",
   "execution_count": null,
   "metadata": {},
   "outputs": [],
   "source": [
    "import numpy as np\n",
    "import matplotlib.pyplot as plt"
   ]
  },
  {
   "cell_type": "code",
   "execution_count": 4,
   "metadata": {},
   "outputs": [
    {
     "data": {
      "image/png": "[encoded data removed]",
      "text/plain": [
       "<Figure size 432x288 with 1 Axes>"
      ]
     },
     "metadata": {
      "needs_background": "light"
     },
     "output_type": "display_data"
    }
   ],
   "source": [
    "# Create a graph sample of uniform distribution?\n",
    "rng = np.random.default_rng()\n",
    "\n",
    "N = 1024*500\n",
    "\n",
    "hist = np.zeros(2048, dtype=np.int32)\n",
    "\n",
    "q = rng.integers(0, 2048, dtype=np.int32, size=N, endpoint=False)\n",
    "\n",
    "for k in range(0, N):\n",
    "    hist[q[k]] += 1\n",
    "\n",
    "x = np.arange(0, 2048, dtype=np.int32)\n",
    "\n",
    "fig, ax = plt.subplots()\n",
    "ax.stem(x, hist, markerfmt=' ')\n",
    "plt.show()\n"
   ]
  }
 ],
 "metadata": {
  "kernelspec": {
   "display_name": "Python 3.8.8 ('base')",
   "language": "python",
   "name": "python3"
  },
  "language_info": {
   "codemirror_mode": {
    "name": "ipython",
    "version": 3
   },
   "file_extension": ".py",
   "mimetype": "text/x-python",
   "name": "python",
   "nbconvert_exporter": "python",
   "pygments_lexer": "ipython3",
   "version": "3.8.8"
  },
  "orig_nbformat": 4,
  "vscode": {
   "interpreter": {
    "hash": "8a76ab7672d3849020eb682a52b788883fb11e29892d4e03e708c369affd26d0"
   }
  }
 },
 "nbformat": 4,
 "nbformat_minor": 2
}
