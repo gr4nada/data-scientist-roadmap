{
 "cells": [
  {
   "cell_type": "code",
   "execution_count": 3,
   "metadata": {},
   "outputs": [],
   "source": [
    "import matplotlib.pyplot as plt\n",
    "import pandas as pd\n",
    "import numpy as np"
   ]
  },
  {
   "cell_type": "code",
   "execution_count": 2,
   "metadata": {},
   "outputs": [
    {
     "ename": "NameError",
     "evalue": "name 'pd' is not defined",
     "output_type": "error",
     "traceback": [
      "\u001b[1;31m---------------------------------------------------------------------------\u001b[0m",
      "\u001b[1;31mNameError\u001b[0m                                 Traceback (most recent call last)",
      "\u001b[1;32m<ipython-input-2-80ef2e445430>\u001b[0m in \u001b[0;36m<module>\u001b[1;34m\u001b[0m\n\u001b[0;32m      1\u001b[0m \u001b[1;31m# Read data\u001b[0m\u001b[1;33m\u001b[0m\u001b[1;33m\u001b[0m\u001b[1;33m\u001b[0m\u001b[0m\n\u001b[1;32m----> 2\u001b[1;33m \u001b[0mtrain\u001b[0m \u001b[1;33m=\u001b[0m \u001b[0mpd\u001b[0m\u001b[1;33m.\u001b[0m\u001b[0mread_excel\u001b[0m\u001b[1;33m(\u001b[0m\u001b[1;34m'Final_train.xlsx'\u001b[0m\u001b[1;33m)\u001b[0m\u001b[1;33m\u001b[0m\u001b[1;33m\u001b[0m\u001b[0m\n\u001b[0m\u001b[0;32m      3\u001b[0m \u001b[1;33m\u001b[0m\u001b[0m\n\u001b[0;32m      4\u001b[0m \u001b[1;31m# Split data in test, valid, train\u001b[0m\u001b[1;33m\u001b[0m\u001b[1;33m\u001b[0m\u001b[1;33m\u001b[0m\u001b[0m\n\u001b[0;32m      5\u001b[0m x_train, x_valid, y_train, y_valid = train_test_split(\n",
      "\u001b[1;31mNameError\u001b[0m: name 'pd' is not defined"
     ]
    }
   ],
   "source": [
    "\n",
    "# Read data\n",
    "train = pd.read_excel('Final_train.xlsx')\n",
    "\n",
    "# Split data in test, valid, train\n",
    "x_train, x_valid, y_train, y_valid = train_test_split(\n",
    "    train, train['Class'], random_state=45, test_size=0.2)\n",
    "\n",
    "# Define preprocessing functions\n",
    "def preprocess(data):\n",
    "    data = remove_stop(data)\n",
    "    data = stemming(data)\n",
    "    data = remove_unneeded_word(data)\n",
    "    return data\n",
    "\n",
    "# Define sklearn pipeline\n",
    "tfidf_vectorizer = TfidfVectorizer(\n",
    "    max_df=0.8,min_df=5, max_features=1600)\n",
    "classifier = svm.SVC()\n",
    "\n",
    "# Train classifier\n",
    "x_train_preproc = preprocess(train)\n",
    "x_train_bow = tfidf_vectorizer.fit_transform(x_train_preproc)\n",
    "classifier.fit(x_train_preproc, y_train)\n",
    "\n",
    "# Test pipeline\n",
    "x_valid_preproc = preprocess(valid)\n",
    "x_valid_bow = tfidf_vectorizer.transform(x_valid_preproc)\n",
    "pred_valid = classifier.predict(x_valid_bow)\n",
    "print('The Accuracy of SVMC is -->',\n",
    "      metrics.accuracy_score(y_valid, pred_valid))\n",
    "\n",
    "# Save model\n",
    "# from https://medium.datadriveninvestor.com/machine-learning-how-to-save-and-load-scikit-learn-models-d7b99bc32c27\n",
    "with open('trained_tfidf.pkl', 'wb') as f:\n",
    "    pickle.dump(tfidf_vectorizer, f)\n",
    "with open('trained_classifier.pkl', 'wb') as f:\n",
    "    pickle.dump(classifier, f)\n",
    "\n",
    "# Load model\n",
    "with open('trained_tfidf.pkl', 'wb') as f:\n",
    "    tfidf_vectorizer = pickle.load(f)\n",
    "with open('trained_classifier.pkl', 'rb') as f:\n",
    "    classifier = pickle.load(f)\n",
    "\n",
    "# Predict on unseen data\n",
    "# Note how the test data have not been loaded until now !\n",
    "test = pd.read_excel('Testing.xlsx', usecols=['Tweet'])\n",
    "x_test_preproc = preprocess(test)\n",
    "x_test_bow = tfidf_vectorizer.transform(x_test_preproc)\n",
    "pred_test = classifier.predict(x_test_bow)\n",
    "print(pred_test)\n",
    "\n",
    "\n"
   ]
  }
 ],
 "metadata": {
  "kernelspec": {
   "display_name": "Python 3.8.8 ('base')",
   "language": "python",
   "name": "python3"
  },
  "language_info": {
   "codemirror_mode": {
    "name": "ipython",
    "version": 3
   },
   "file_extension": ".py",
   "mimetype": "text/x-python",
   "name": "python",
   "nbconvert_exporter": "python",
   "pygments_lexer": "ipython3",
   "version": "3.8.8"
  },
  "orig_nbformat": 4,
  "vscode": {
   "interpreter": {
    "hash": "8a76ab7672d3849020eb682a52b788883fb11e29892d4e03e708c369affd26d0"
   }
  }
 },
 "nbformat": 4,
 "nbformat_minor": 2
}
