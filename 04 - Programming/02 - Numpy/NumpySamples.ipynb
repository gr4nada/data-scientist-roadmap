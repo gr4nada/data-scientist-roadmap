{
 "cells": [
  {
   "cell_type": "markdown",
   "metadata": {},
   "source": [
    "## Numpy Samples"
   ]
  },
  {
   "cell_type": "code",
   "execution_count": 4,
   "metadata": {},
   "outputs": [],
   "source": [
    "import numpy as np\n",
    "import matplotlib.pyplot as plt"
   ]
  },
  {
   "cell_type": "code",
   "execution_count": 5,
   "metadata": {},
   "outputs": [
    {
     "name": "stdout",
     "output_type": "stream",
     "text": [
      "[2 0]\n",
      "[2 3]\n",
      "[4 3]\n",
      "2 3\n"
     ]
    },
    {
     "name": "stderr",
     "output_type": "stream",
     "text": [
      "<ipython-input-5-2fd614fc4aa1>:21: MatplotlibDeprecationWarning: Adding an axes using the same arguments as a previous axes currently reuses the earlier instance.  In a future version, a new instance will always be created and returned.  Meanwhile, this warning can be suppressed, and the future behavior ensured, by passing a unique label to each axes instance.\n",
      "  plt.axes().arrow(0,0,M[i,0],M[i,1],head_width=0.2,head_length=0.1,zorder=3)\n"
     ]
    },
    {
     "data": {
      "image/png": "[encoded data removed]",
      "text/plain": [
       "<Figure size 432x288 with 1 Axes>"
      ]
     },
     "metadata": {
      "needs_background": "light"
     },
     "output_type": "display_data"
    }
   ],
   "source": [
    "def plotv(M):\n",
    "    rows,cols = M.T.shape\n",
    "    print(rows,cols)\n",
    "\n",
    "    #Get absolute maxes for axis ranges to center origin\n",
    "    #This is optional\n",
    "    maxes = 1.1*np.amax(abs(M), axis = 0)\n",
    "    colors = ['b','r','k']\n",
    "    fig = plt.figure()\n",
    "    fig.suptitle('Vectors', fontsize=10, fontweight='bold')\n",
    "\n",
    "    ax = fig.add_subplot(111)\n",
    "    fig.subplots_adjust(top=0.85)\n",
    "    ax.set_title('Vector operations')\n",
    "\n",
    "    ax.set_xlabel('x')\n",
    "    ax.set_ylabel('y')\n",
    "\n",
    "    for i,l in enumerate(range(0,cols)):\n",
    "        # print(i)\n",
    "        plt.axes().arrow(0,0,M[i,0],M[i,1],head_width=0.2,head_length=0.1,zorder=3)\n",
    "\n",
    "        ax.text(M[i,0],M[i,1], str(M[i]), style='italic',\n",
    "            bbox={'facecolor':'red', 'alpha':0.5, 'pad':0.5})\n",
    "\n",
    "    plt.plot(0,0,'ok') #<-- plot a black point at the origin\n",
    "    # plt.axis('equal')  #<-- set the axes to the same scale\n",
    "    plt.xlim([-maxes[0],maxes[0]]) #<-- set the x axis limits\n",
    "    plt.ylim([-maxes[1],maxes[1]]) #<-- set the y axis limits\n",
    "\n",
    "    plt.grid(b=True, which='major') #<-- plot grid lines\n",
    "    plt.show()\n",
    "\n",
    "r = np.random.randint(4,size=[2,2])\n",
    "print(r[0,:])\n",
    "print(r[1,:])\n",
    "r12 = np.add(r[0,:],r[1,:])\n",
    "print(r12)\n",
    "plotv(np.vstack((r,r12)))\n"
   ]
  }
 ],
 "metadata": {
  "kernelspec": {
   "display_name": "Python 3.8.8 ('base')",
   "language": "python",
   "name": "python3"
  },
  "language_info": {
   "codemirror_mode": {
    "name": "ipython",
    "version": 3
   },
   "file_extension": ".py",
   "mimetype": "text/x-python",
   "name": "python",
   "nbconvert_exporter": "python",
   "pygments_lexer": "ipython3",
   "version": "3.8.8"
  },
  "orig_nbformat": 4,
  "vscode": {
   "interpreter": {
    "hash": "8a76ab7672d3849020eb682a52b788883fb11e29892d4e03e708c369affd26d0"
   }
  }
 },
 "nbformat": 4,
 "nbformat_minor": 2
}
