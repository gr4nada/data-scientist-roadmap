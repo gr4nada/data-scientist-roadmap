{
 "cells": [
  {
   "cell_type": "markdown",
   "metadata": {},
   "source": [
    "### Dictionary\n",
    "\n",
    "Each key is separated from its value by a colon (:), the items are separated by commas, and the whole thing is enclosed in curly braces. An empty dictionary without any items is written with just two curly braces, like this: {}. Keys are unique within a dictionary while values may not be. The values of a dictionary can be of any type, but the keys must be of an immutable data type such as strings, numbers, or tuples."
   ]
  },
  {
   "cell_type": "markdown",
   "metadata": {},
   "source": [
    "### Creating a dictionary"
   ]
  },
  {
   "cell_type": "code",
   "execution_count": 1,
   "metadata": {
    "collapsed": false
   },
   "outputs": [
    {
     "name": "stdout",
     "output_type": "stream",
     "text": [
      "Sample dictionary:  {'Name': 'Jivin', 'Age': 6, 'Class': 'First'}\n"
     ]
    }
   ],
   "source": [
    "# Creating a dictionary\n",
    "\n",
    "dict = {'Name': 'Jivin', 'Age': 6, 'Class': 'First'}\n",
    "\n",
    "print (\"Sample dictionary: \", dict)"
   ]
  },
  {
   "cell_type": "markdown",
   "metadata": {},
   "source": [
    "### Accessing items from dictionary"
   ]
  },
  {
   "cell_type": "code",
   "execution_count": 2,
   "metadata": {
    "collapsed": false
   },
   "outputs": [
    {
     "name": "stdout",
     "output_type": "stream",
     "text": [
      "Value of key Name, from sample dictionary: Jivin\n"
     ]
    }
   ],
   "source": [
    "# Accessing items from dictionary\n",
    "\n",
    "print (\"Value of key Name, from sample dictionary:\", dict['Name'])"
   ]
  },
  {
   "cell_type": "markdown",
   "metadata": {},
   "source": [
    "### Deleting a dictionary"
   ]
  },
  {
   "cell_type": "code",
   "execution_count": 3,
   "metadata": {
    "collapsed": false
   },
   "outputs": [
    {
     "name": "stdout",
     "output_type": "stream",
     "text": [
      "Sample dictionary:  {'Name': 'Jivin', 'Age': 6, 'Class': 'First'}\n",
      "Sample dictionary post deletion of item Name: {'Age': 6, 'Class': 'First'}\n",
      "dict post dict.clear(): {}\n"
     ]
    }
   ],
   "source": [
    "# Deleting a dictionary\n",
    "dict = {'Name': 'Jivin', 'Age': 6, 'Class': 'First'}\n",
    "print (\"Sample dictionary: \", dict)\n",
    "del dict['Name'] # Delete specific item\n",
    "print (\"Sample dictionary post deletion of item Name:\", dict)\n",
    "\n",
    "dict = {'Name': 'Jivin', 'Age': 6, 'Class': 'First'}\n",
    "dict.clear() # Clear all the contents of dictionary\n",
    "print (\"dict post dict.clear():\", dict)\n",
    "\n",
    "dict = {'Name': 'Jivin', 'Age': 6, 'Class': 'First'}\n",
    "del dict # Delete the dictionary"
   ]
  },
  {
   "cell_type": "markdown",
   "metadata": {},
   "source": [
    "### Updating a dictionary"
   ]
  },
  {
   "cell_type": "code",
   "execution_count": 4,
   "metadata": {
    "collapsed": false
   },
   "outputs": [
    {
     "name": "stdout",
     "output_type": "stream",
     "text": [
      "Sample dictionary:  {'Name': 'Jivin', 'Age': 6, 'Class': 'First'}\n",
      "Dictionary post age value update:  {'Name': 'Jivin', 'Age': 6.5, 'Class': 'First'}\n"
     ]
    }
   ],
   "source": [
    "# Updating a dictionary\n",
    "\n",
    "dict = {'Name': 'Jivin', 'Age': 6, 'Class': 'First'}\n",
    "print (\"Sample dictionary: \", dict)\n",
    "dict['Age'] = 6.5\n",
    "\n",
    "print (\"Dictionary post age value update: \", dict)"
   ]
  },
  {
   "cell_type": "markdown",
   "metadata": {},
   "source": [
    "### Basic operations on dictionary"
   ]
  },
  {
   "cell_type": "code",
   "execution_count": 5,
   "metadata": {
    "collapsed": false
   },
   "outputs": [
    {
     "name": "stdout",
     "output_type": "stream",
     "text": [
      "Length of dict:  3\n",
      "Return Value: dict1 vs dict2 False\n",
      "Return Value: dict2 vs dict3 False\n",
      "Return Value: dict1 vs dict4 True\n",
      "Equivalent String:  {'Name': 'Jivin', 'Age': 6}\n",
      "{'Name': 'Jivin', 'Age': 6}\n",
      "New Dictionary:  {'name': None, 'age': None, 'sex': None}\n",
      "New Dictionary:  {'name': 10, 'age': 10, 'sex': 10}\n",
      "Value for Age:  6\n",
      "Value for Education:  First Grade\n",
      "Age exists?  6\n",
      "Sex exists?  None\n",
      "dict items:  dict_items([('Name', 'Jivin'), ('Age', 6)])\n",
      "dict keys:  dict_keys(['Name', 'Age'])\n",
      "Value of dict:  dict_values(['Jivin', 6])\n",
      "Value for Age :  True\n",
      "Value for Sex:  False\n",
      "dict.update(dict2) =  {'Name': 'Jivin', 'Age': 6, 'Sex': 'male'}\n"
     ]
    }
   ],
   "source": [
    "# Basic operations\n",
    "\n",
    "dict = {'Name': 'Jivin', 'Age': 6, 'Class': 'First'}\n",
    "print (\"Length of dict: \", len(dict) )\n",
    "\n",
    "dict1 = {'Name': 'Jivin', 'Age': 6}\n",
    "dict2 = {'Name': 'Pratham', 'Age': 7}\n",
    "dict3 = {'Name': 'Pranuth', 'Age': 7}\n",
    "dict4 = {'Name': 'Jivin', 'Age': 6}\n",
    "print (\"Return Value: dict1 vs dict2\",  (dict1==dict2))\n",
    "print (\"Return Value: dict2 vs dict3\",  (dict2== dict3))\n",
    "print (\"Return Value: dict1 vs dict4\",  (dict1== dict4))\n",
    "\n",
    "# String representation of dictionary\n",
    "dict = {'Name': 'Jivin', 'Age': 6}\n",
    "print (\"Equivalent String: \", str (dict))\n",
    "\n",
    "# Copy the dict\n",
    "dict1 = dict.copy()\n",
    "print (dict1)\n",
    "\n",
    "# Create new dictionary with keys from tuple and values to set value\n",
    "seq = ('name', 'age', 'sex')\n",
    "\n",
    "dict = dict.fromkeys(seq)\n",
    "print (\"New Dictionary: \", str(dict))\n",
    "\n",
    "dict = dict.fromkeys(seq, 10)\n",
    "print (\"New Dictionary: \", str(dict))\n",
    "\n",
    "# Retrieve value for a given key\n",
    "dict = {'Name': 'Jivin', 'Age': 6}\n",
    "print (\"Value for Age: \", dict.get('Age'))\n",
    "# Since the key Education does not exist, the second argument will be returned\n",
    "print (\"Value for Education: \", dict.get('Education', \"First Grade\"))\n",
    "\n",
    "# Check if key in dictionary\n",
    "print (\"Age exists? \", dict.get('Age'))\n",
    "print (\"Sex exists? \", dict.get('Sex'))\n",
    "\n",
    "# Return items of dictionary\n",
    "print (\"dict items: \", dict.items())\n",
    "\n",
    "# Return items of keys\n",
    "print (\"dict keys: \", dict.keys())\n",
    "\n",
    "# return values of dict\n",
    "print (\"Value of dict: \",  dict.values())\n",
    "\n",
    "# if key does not exists, then the arguments will be added to dict and returned\n",
    "print (\"Value for Age : \", ('Age'in dict))\n",
    "print (\"Value for Sex: \", ('Sex'in dict))\n",
    "\n",
    "# Concatenate dicts\n",
    "dict = {'Name': 'Jivin', 'Age': 6}\n",
    "dict2 = {'Sex': 'male' }\n",
    "\n",
    "dict.update(dict2)\n",
    "print (\"dict.update(dict2) = \",  dict)"
   ]
  },
  {
   "cell_type": "markdown",
   "metadata": {},
   "source": [
    "------------\n",
    "###### Data-Scientist-Roadmap - References:. [WOLFRAM INTRODUTION TO LINEAR ALGEBRA](https://www.wolfram.com/wolfram-u/courses/mathematics/introduction-to-linear-algebra/)"
   ]
  }
 ],
 "metadata": {
  "kernelspec": {
   "display_name": "Python 3.8.8 ('base')",
   "language": "python",
   "name": "python3"
  },
  "language_info": {
   "codemirror_mode": {
    "name": "ipython",
    "version": 3
   },
   "file_extension": ".py",
   "mimetype": "text/x-python",
   "name": "python",
   "nbconvert_exporter": "python",
   "pygments_lexer": "ipython3",
   "version": "3.8.8"
  },
  "vscode": {
   "interpreter": {
    "hash": "8a76ab7672d3849020eb682a52b788883fb11e29892d4e03e708c369affd26d0"
   }
  }
 },
 "nbformat": 4,
 "nbformat_minor": 0
}
