{
 "cells": [
  {
   "cell_type": "markdown",
   "metadata": {},
   "source": [
    "## List of all keywords in Python"
   ]
  },
  {
   "cell_type": "code",
   "execution_count": 1,
   "metadata": {},
   "outputs": [
    {
     "name": "stdout",
     "output_type": "stream",
     "text": [
      "The list of keywords is : \n",
      "['False', 'None', 'True', 'and', 'as', 'assert', 'async', 'await', 'break', 'class', 'continue', 'def', 'del', 'elif', 'else', 'except', 'finally', 'for', 'from', 'global', 'if', 'import', 'in', 'is', 'lambda', 'nonlocal', 'not', 'or', 'pass', 'raise', 'return', 'try', 'while', 'with', 'yield']\n"
     ]
    }
   ],
   "source": [
    "# Python code to demonstrate working of iskeyword()\n",
    "  \n",
    "# importing \"keyword\" for keyword operations\n",
    "import keyword\n",
    "  \n",
    "# printing all keywords at once using \"kwlist()\"\n",
    "print(\"The list of keywords is : \")\n",
    "print(keyword.kwlist)"
   ]
  },
  {
   "cell_type": "markdown",
   "metadata": {},
   "source": [
    "Example: True, False, and None Keyword"
   ]
  },
  {
   "cell_type": "code",
   "execution_count": 2,
   "metadata": {},
   "outputs": [
    {
     "name": "stdout",
     "output_type": "stream",
     "text": [
      "True\n",
      "True\n",
      "3\n",
      "1\n",
      "False\n",
      "False\n"
     ]
    }
   ],
   "source": [
    "print(False == 0)\n",
    "print(True == 1)\n",
    "  \n",
    "print(True + True + True)\n",
    "print(True + False + False)\n",
    "  \n",
    "print(None == 0)\n",
    "print(None == [])"
   ]
  },
  {
   "cell_type": "code",
   "execution_count": 3,
   "metadata": {},
   "outputs": [
    {
     "name": "stdout",
     "output_type": "stream",
     "text": [
      "True\n",
      "False\n"
     ]
    },
    {
     "name": "stderr",
     "output_type": "stream",
     "text": [
      "<>:4: SyntaxWarning: \"is\" with a literal. Did you mean \"==\"?\n",
      "<>:4: SyntaxWarning: \"is\" with a literal. Did you mean \"==\"?\n",
      "<ipython-input-3-f7c671e1aca6>:4: SyntaxWarning: \"is\" with a literal. Did you mean \"==\"?\n",
      "  print(' ' is ' ')\n"
     ]
    }
   ],
   "source": [
    "# using is to check object identity\n",
    "# string is immutable( cannot be changed once allocated)\n",
    "# hence occupy same memory location\n",
    "print(' ' is ' ')\n",
    "  \n",
    "# using is to check object identity\n",
    "# dictionary is mutable( can be changed once allocated)\n",
    "# hence occupy different memory location\n",
    "print({} is {})"
   ]
  },
  {
   "cell_type": "markdown",
   "metadata": {},
   "source": [
    "## Return Keywords – Return, Yield\n",
    "* return : This keyword is used to return from the function.\n",
    "* yield : This keyword is used like return statement but is used to return a generator.\n",
    "  \n",
    "Example: Return and Yield Keyword"
   ]
  },
  {
   "cell_type": "code",
   "execution_count": 7,
   "metadata": {},
   "outputs": [
    {
     "name": "stdout",
     "output_type": "stream",
     "text": [
      "Return:.45\n",
      "Yield:.0\n",
      "Yield:.1\n",
      "Yield:.3\n",
      "Yield:.6\n",
      "Yield:.10\n",
      "Yield:.15\n",
      "Yield:.21\n",
      "Yield:.28\n",
      "Yield:.36\n",
      "Yield:.45\n"
     ]
    }
   ],
   "source": [
    "# Return keyword\n",
    "def fun():\n",
    "    S = 0\n",
    "      \n",
    "    for i in range(10):\n",
    "        S += i\n",
    "    return S\n",
    "  \n",
    "print(f\"Return:.{fun()}\")\n",
    "  \n",
    "# Yield Keyword\n",
    "def fun():\n",
    "    S = 0\n",
    "      \n",
    "    for i in range(10):\n",
    "        S += i\n",
    "        yield S\n",
    "  \n",
    "for i in fun():\n",
    "    print(f\"Yield:.{i}\")"
   ]
  },
  {
   "cell_type": "markdown",
   "metadata": {},
   "source": [
    "Example: try, except, raise, finally, and assert Keywords"
   ]
  },
  {
   "cell_type": "code",
   "execution_count": 8,
   "metadata": {},
   "outputs": [
    {
     "name": "stdout",
     "output_type": "stream",
     "text": [
      "Can't divide by zero\n",
      "This is always executed\n",
      "The value of a / b is : \n"
     ]
    },
    {
     "ename": "AssertionError",
     "evalue": "Divide by 0 error",
     "output_type": "error",
     "traceback": [
      "\u001b[1;31m---------------------------------------------------------------------------\u001b[0m",
      "\u001b[1;31mAssertionError\u001b[0m                            Traceback (most recent call last)",
      "\u001b[1;32m<ipython-input-8-98cba14f2d2d>\u001b[0m in \u001b[0;36m<module>\u001b[1;34m\u001b[0m\n\u001b[0;32m     20\u001b[0m \u001b[1;31m# using assert to check for 0\u001b[0m\u001b[1;33m\u001b[0m\u001b[1;33m\u001b[0m\u001b[1;33m\u001b[0m\u001b[0m\n\u001b[0;32m     21\u001b[0m \u001b[0mprint\u001b[0m \u001b[1;33m(\u001b[0m\u001b[1;34m\"The value of a / b is : \"\u001b[0m\u001b[1;33m)\u001b[0m\u001b[1;33m\u001b[0m\u001b[1;33m\u001b[0m\u001b[0m\n\u001b[1;32m---> 22\u001b[1;33m \u001b[1;32massert\u001b[0m \u001b[0mb\u001b[0m \u001b[1;33m!=\u001b[0m \u001b[1;36m0\u001b[0m\u001b[1;33m,\u001b[0m \u001b[1;34m\"Divide by 0 error\"\u001b[0m\u001b[1;33m\u001b[0m\u001b[1;33m\u001b[0m\u001b[0m\n\u001b[0m\u001b[0;32m     23\u001b[0m \u001b[0mprint\u001b[0m \u001b[1;33m(\u001b[0m\u001b[0ma\u001b[0m \u001b[1;33m/\u001b[0m \u001b[0mb\u001b[0m\u001b[1;33m)\u001b[0m\u001b[1;33m\u001b[0m\u001b[1;33m\u001b[0m\u001b[0m\n",
      "\u001b[1;31mAssertionError\u001b[0m: Divide by 0 error"
     ]
    }
   ],
   "source": [
    "# initializing number\n",
    "a = 4\n",
    "b = 0\n",
    "  \n",
    "# No exception Exception raised in try block\n",
    "try:\n",
    "    k = a//b # raises divide by zero exception.\n",
    "    print(k)\n",
    "  \n",
    "# handles zerodivision exception\n",
    "except ZeroDivisionError:\n",
    "    print(\"Can't divide by zero\")\n",
    "  \n",
    "finally:\n",
    "    # this block is always executed\n",
    "    # regardless of exception generation.\n",
    "    print('This is always executed')\n",
    "  \n",
    "# assert Keyword  \n",
    "# using assert to check for 0\n",
    "print (\"The value of a / b is : \")\n",
    "assert b != 0, \"Divide by 0 error\"\n",
    "print (a / b)"
   ]
  },
  {
   "cell_type": "markdown",
   "metadata": {},
   "source": [
    "------------\n",
    "###### Data-Scientist-Roadmap - References:. [Geek 4 Geeks](https://www.geeksforgeeks.org/python-keywords/)"
   ]
  }
 ],
 "metadata": {
  "kernelspec": {
   "display_name": "Python 3.8.8 ('base')",
   "language": "python",
   "name": "python3"
  },
  "language_info": {
   "codemirror_mode": {
    "name": "ipython",
    "version": 3
   },
   "file_extension": ".py",
   "mimetype": "text/x-python",
   "name": "python",
   "nbconvert_exporter": "python",
   "pygments_lexer": "ipython3",
   "version": "3.8.8"
  },
  "orig_nbformat": 4,
  "vscode": {
   "interpreter": {
    "hash": "8a76ab7672d3849020eb682a52b788883fb11e29892d4e03e708c369affd26d0"
   }
  }
 },
 "nbformat": 4,
 "nbformat_minor": 2
}
