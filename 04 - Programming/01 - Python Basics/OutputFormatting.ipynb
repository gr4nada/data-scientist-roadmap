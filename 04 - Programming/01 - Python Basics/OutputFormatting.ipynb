{
 "cells": [
  {
   "cell_type": "markdown",
   "metadata": {},
   "source": [
    "## Output Formatting"
   ]
  },
  {
   "cell_type": "code",
   "execution_count": 7,
   "metadata": {},
   "outputs": [
    {
     "name": "stdout",
     "output_type": "stream",
     "text": [
      "Int : 234, Float :  5.34\n",
      "Octal(25):    031\n",
      "Exponential value(356.08977): 3.561E+02\n"
     ]
    }
   ],
   "source": [
    "# Python program showing how to use\n",
    "# string modulo operator(%) to print\n",
    "# fancier output\n",
    " \n",
    "# print integer and float value\n",
    "print(\"Int : %2d, Float : %5.2f\" % (534, 05.336))\n",
    "\n",
    "# print octal value\n",
    "print(\"Octal(25):%7.3o\" % (25))\n",
    " \n",
    "# print exponential value\n",
    "print(\"Exponential value(356.08977):%10.3E\" % (356.08977))"
   ]
  },
  {
   "cell_type": "code",
   "execution_count": 12,
   "metadata": {},
   "outputs": [
    {
     "name": "stdout",
     "output_type": "stream",
     "text": [
      "Par: First and Second\n",
      "Par: First and Second\n",
      "Par: Second and First\n",
      "First and Second\n"
     ]
    }
   ],
   "source": [
    "# Python program showing\n",
    "# use of format() method\n",
    " \n",
    "# using format() method\n",
    "print('Par: {} and {}'.format('First', 'Second'))\n",
    " \n",
    "# using format() method and referring\n",
    "# a position of the object\n",
    "print('Par: {0} and {1}'.format('First', 'Second'))\n",
    " \n",
    "print('Par: {1} and {0}'.format('First', 'Second'))\n",
    " \n",
    "first=\"First\"\n",
    "sec = \"Second\"\n",
    "\n",
    "# using format() method and referring\n",
    "# a position of the object\n",
    "print(f\"Par: {first} and {sec}\")"
   ]
  },
  {
   "cell_type": "markdown",
   "metadata": {},
   "source": [
    "------------\n",
    "###### Data-Scientist-Roadmap - References:. [Geek 4 Geeks](https://www.geeksforgeeks.org/python-output-formatting/)"
   ]
  }
 ],
 "metadata": {
  "kernelspec": {
   "display_name": "Python 3.8.8 ('base')",
   "language": "python",
   "name": "python3"
  },
  "language_info": {
   "codemirror_mode": {
    "name": "ipython",
    "version": 3
   },
   "file_extension": ".py",
   "mimetype": "text/x-python",
   "name": "python",
   "nbconvert_exporter": "python",
   "pygments_lexer": "ipython3",
   "version": "3.8.8"
  },
  "orig_nbformat": 4,
  "vscode": {
   "interpreter": {
    "hash": "8a76ab7672d3849020eb682a52b788883fb11e29892d4e03e708c369affd26d0"
   }
  }
 },
 "nbformat": 4,
 "nbformat_minor": 2
}
